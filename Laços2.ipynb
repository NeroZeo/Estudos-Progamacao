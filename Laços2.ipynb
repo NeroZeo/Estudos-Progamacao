{
  "nbformat": 4,
  "nbformat_minor": 0,
  "metadata": {
    "colab": {
      "provenance": [],
      "authorship_tag": "ABX9TyOi4k+HXKSBxjmxnD0vxf4F",
      "include_colab_link": true
    },
    "kernelspec": {
      "name": "python3",
      "display_name": "Python 3"
    },
    "language_info": {
      "name": "python"
    }
  },
  "cells": [
    {
      "cell_type": "markdown",
      "metadata": {
        "id": "view-in-github",
        "colab_type": "text"
      },
      "source": [
        "<a href=\"https://colab.research.google.com/github/NeroZeo/Estudos-Progamacao/blob/main/La%C3%A7os2.ipynb\" target=\"_parent\"><img src=\"https://colab.research.google.com/assets/colab-badge.svg\" alt=\"Open In Colab\"/></a>"
      ]
    },
    {
      "cell_type": "code",
      "source": [
        "frutas = ['banana', 'laranja', 'maça','goiaba','morango']"
      ],
      "metadata": {
        "id": "jVfL4A4f-mvj"
      },
      "execution_count": 26,
      "outputs": []
    },
    {
      "cell_type": "code",
      "source": [
        "for i in frutas:\n",
        "  print(i)"
      ],
      "metadata": {
        "colab": {
          "base_uri": "https://localhost:8080/"
        },
        "id": "1yicvpPdFxu4",
        "outputId": "2755d2f0-21a9-4d3c-a22e-94cf29989c49"
      },
      "execution_count": 27,
      "outputs": [
        {
          "output_type": "stream",
          "name": "stdout",
          "text": [
            "banana\n",
            "laranja\n",
            "maça\n",
            "goiaba\n",
            "morango\n"
          ]
        }
      ]
    },
    {
      "cell_type": "code",
      "source": [
        "for i in frutas:\n",
        "  if(i == 'morango'):\n",
        "    print(i)"
      ],
      "metadata": {
        "colab": {
          "base_uri": "https://localhost:8080/"
        },
        "id": "fApm41dJF9cn",
        "outputId": "73adae07-142e-4803-e933-f16fd94f6e90"
      },
      "execution_count": 28,
      "outputs": [
        {
          "output_type": "stream",
          "name": "stdout",
          "text": [
            "morango\n"
          ]
        }
      ]
    },
    {
      "cell_type": "code",
      "source": [
        "notas = [8,9,1,6,4,5,10,7,9,3,5,4,7,8,6]"
      ],
      "metadata": {
        "id": "kIO9CN_zIwXZ"
      },
      "execution_count": 19,
      "outputs": []
    },
    {
      "cell_type": "code",
      "source": [
        "for nota in notas:\n",
        "  if(nota >= 7):\n",
        "    print('Aprovado:',nota)\n",
        "  else:\n",
        "    print('Reprovado:',nota)  "
      ],
      "metadata": {
        "colab": {
          "base_uri": "https://localhost:8080/"
        },
        "id": "NNGaJmITI9UC",
        "outputId": "ce1e5cf1-7690-4c5a-fd90-63dbbe76d5d3"
      },
      "execution_count": 29,
      "outputs": [
        {
          "output_type": "stream",
          "name": "stdout",
          "text": [
            "Aprovado: 8\n",
            "Aprovado: 9\n",
            "Reprovado: 1\n",
            "Reprovado: 6\n",
            "Reprovado: 4\n",
            "Reprovado: 5\n",
            "Aprovado: 10\n",
            "Aprovado: 7\n",
            "Aprovado: 9\n",
            "Reprovado: 3\n",
            "Reprovado: 5\n",
            "Reprovado: 4\n",
            "Aprovado: 7\n",
            "Aprovado: 8\n",
            "Reprovado: 6\n"
          ]
        }
      ]
    },
    {
      "cell_type": "code",
      "source": [
        "aprovados = 0\n",
        "reprovados = 0\n",
        "for nota in notas:\n",
        "  if(nota >= 7):\n",
        "    aprovados +=1\n",
        "  else:\n",
        "      reprovados +=1\n",
        "\n",
        "print('Aprovados:', aprovados)\n",
        "print('Reprovados:', reprovados)"
      ],
      "metadata": {
        "colab": {
          "base_uri": "https://localhost:8080/"
        },
        "id": "3_UvnqcwLqsF",
        "outputId": "c34f4750-73ee-44e2-991b-54078ef13cb4"
      },
      "execution_count": 31,
      "outputs": [
        {
          "output_type": "stream",
          "name": "stdout",
          "text": [
            "Aprovados: 7\n",
            "Reprovados: 8\n"
          ]
        }
      ]
    },
    {
      "cell_type": "code",
      "source": [
        "cont = 1\n",
        "numeros = []\n",
        "\n",
        "while(cont <= 10):\n",
        "  numeros.append(cont)\n",
        "  cont += 1\n",
        "numeros"
      ],
      "metadata": {
        "colab": {
          "base_uri": "https://localhost:8080/"
        },
        "id": "nGNjTGE1QusY",
        "outputId": "375af771-b150-41c0-a62c-63c179911797"
      },
      "execution_count": 37,
      "outputs": [
        {
          "output_type": "execute_result",
          "data": {
            "text/plain": [
              "[1, 2, 3, 4, 5, 6, 7, 8, 9, 10]"
            ]
          },
          "metadata": {},
          "execution_count": 37
        }
      ]
    },
    {
      "cell_type": "code",
      "source": [
        "nu = int(input('Digite um numero ai. '))\n",
        "cont = 1\n",
        "numeros = []\n",
        "\n",
        "while(cont <= nu):\n",
        "  numeros.append(cont)\n",
        "  cont += 1\n",
        "numeros"
      ],
      "metadata": {
        "colab": {
          "base_uri": "https://localhost:8080/"
        },
        "id": "eeI5RGRzSfJh",
        "outputId": "99a83c2b-e3c8-4b44-f1d2-2fda6dc1bdbe"
      },
      "execution_count": 44,
      "outputs": [
        {
          "name": "stdout",
          "output_type": "stream",
          "text": [
            "Digite um numero ai. 5\n"
          ]
        },
        {
          "output_type": "execute_result",
          "data": {
            "text/plain": [
              "[1, 2, 3, 4, 5]"
            ]
          },
          "metadata": {},
          "execution_count": 44
        }
      ]
    },
    {
      "cell_type": "code",
      "source": [
        "cidades = []\n",
        "city = input('Insira nome de cidade: ')\n",
        "\n",
        "\n",
        "while(city != ''):\n",
        "  cidades.append(city)\n",
        "  city = input('Insira nome de cidade: ')\n",
        "\n",
        "cidades"
      ],
      "metadata": {
        "colab": {
          "base_uri": "https://localhost:8080/"
        },
        "id": "EsY6VHqeUziK",
        "outputId": "bde70973-f9b2-428d-a613-8d9db37c5bc0"
      },
      "execution_count": 5,
      "outputs": [
        {
          "name": "stdout",
          "output_type": "stream",
          "text": [
            "Insira nome de cidade: Lol\n",
            "Insira nome de cidade: Wol\n",
            "Insira nome de cidade: \n"
          ]
        },
        {
          "output_type": "execute_result",
          "data": {
            "text/plain": [
              "['Lol', 'Wol']"
            ]
          },
          "metadata": {},
          "execution_count": 5
        }
      ]
    },
    {
      "cell_type": "code",
      "source": [
        "num = int(input('Coloque um numero: '))\n",
        "\n",
        "while(num >= 0):\n",
        "  if(num % 2 == 0):\n",
        "    print(num,'é par.')\n",
        "    num = int(input('Coloque um numero: '))\n",
        "  else:\n",
        "    print(num,\"é impar\")\n",
        "    num = int(input('Coloque um numero: '))\n",
        "\n",
        "print('Acabou o progama, BURRO!!!')"
      ],
      "metadata": {
        "colab": {
          "base_uri": "https://localhost:8080/"
        },
        "id": "7lyek3VBX55m",
        "outputId": "35596473-b1f4-460c-e980-1b041f09741c"
      },
      "execution_count": 13,
      "outputs": [
        {
          "output_type": "stream",
          "name": "stdout",
          "text": [
            "Coloque um numero: 8\n",
            "8 é par.\n",
            "Coloque um numero: 7\n",
            "7 é impar\n",
            "Coloque um numero: -9\n",
            "Acabou o progama, BURRO!!!\n"
          ]
        }
      ]
    },
    {
      "cell_type": "code",
      "source": [
        "nomes = []\n",
        "nome = input('Digite um nome: ')\n",
        "\n",
        "while(num != '0'):\n",
        "  nomes.append(nome)\n",
        "  nome = input('Digite um nome: ')\n",
        "nomes"
      ],
      "metadata": {
        "colab": {
          "base_uri": "https://localhost:8080/",
          "height": 415
        },
        "id": "pkD1gROkc1X4",
        "outputId": "3d2dfd28-2e54-49aa-82e6-047bfe9c6e3d"
      },
      "execution_count": 21,
      "outputs": [
        {
          "name": "stdout",
          "output_type": "stream",
          "text": [
            "Digite um nome: May\n",
            "Digite um nome: Eliza\n",
            "Digite um nome: 0\n"
          ]
        },
        {
          "output_type": "error",
          "ename": "KeyboardInterrupt",
          "evalue": "ignored",
          "traceback": [
            "\u001b[0;31m---------------------------------------------------------------------------\u001b[0m",
            "\u001b[0;31mKeyboardInterrupt\u001b[0m                         Traceback (most recent call last)",
            "\u001b[0;32m<ipython-input-21-d1e812d93ac4>\u001b[0m in \u001b[0;36m<module>\u001b[0;34m\u001b[0m\n\u001b[1;32m      4\u001b[0m \u001b[0;32mwhile\u001b[0m\u001b[0;34m(\u001b[0m\u001b[0mnum\u001b[0m \u001b[0;34m!=\u001b[0m \u001b[0;34m'0'\u001b[0m\u001b[0;34m)\u001b[0m\u001b[0;34m:\u001b[0m\u001b[0;34m\u001b[0m\u001b[0;34m\u001b[0m\u001b[0m\n\u001b[1;32m      5\u001b[0m   \u001b[0mnomes\u001b[0m\u001b[0;34m.\u001b[0m\u001b[0mappend\u001b[0m\u001b[0;34m(\u001b[0m\u001b[0mnome\u001b[0m\u001b[0;34m)\u001b[0m\u001b[0;34m\u001b[0m\u001b[0;34m\u001b[0m\u001b[0m\n\u001b[0;32m----> 6\u001b[0;31m   \u001b[0mnome\u001b[0m \u001b[0;34m=\u001b[0m \u001b[0minput\u001b[0m\u001b[0;34m(\u001b[0m\u001b[0;34m'Digite um nome: '\u001b[0m\u001b[0;34m)\u001b[0m\u001b[0;34m\u001b[0m\u001b[0;34m\u001b[0m\u001b[0m\n\u001b[0m\u001b[1;32m      7\u001b[0m \u001b[0mnomes\u001b[0m\u001b[0;34m\u001b[0m\u001b[0;34m\u001b[0m\u001b[0m\n",
            "\u001b[0;32m/usr/local/lib/python3.9/dist-packages/ipykernel/kernelbase.py\u001b[0m in \u001b[0;36mraw_input\u001b[0;34m(self, prompt)\u001b[0m\n\u001b[1;32m    858\u001b[0m                 \u001b[0;34m\"raw_input was called, but this frontend does not support input requests.\"\u001b[0m\u001b[0;34m\u001b[0m\u001b[0;34m\u001b[0m\u001b[0m\n\u001b[1;32m    859\u001b[0m             )\n\u001b[0;32m--> 860\u001b[0;31m         return self._input_request(str(prompt),\n\u001b[0m\u001b[1;32m    861\u001b[0m             \u001b[0mself\u001b[0m\u001b[0;34m.\u001b[0m\u001b[0m_parent_ident\u001b[0m\u001b[0;34m,\u001b[0m\u001b[0;34m\u001b[0m\u001b[0;34m\u001b[0m\u001b[0m\n\u001b[1;32m    862\u001b[0m             \u001b[0mself\u001b[0m\u001b[0;34m.\u001b[0m\u001b[0m_parent_header\u001b[0m\u001b[0;34m,\u001b[0m\u001b[0;34m\u001b[0m\u001b[0;34m\u001b[0m\u001b[0m\n",
            "\u001b[0;32m/usr/local/lib/python3.9/dist-packages/ipykernel/kernelbase.py\u001b[0m in \u001b[0;36m_input_request\u001b[0;34m(self, prompt, ident, parent, password)\u001b[0m\n\u001b[1;32m    902\u001b[0m             \u001b[0;32mexcept\u001b[0m \u001b[0mKeyboardInterrupt\u001b[0m\u001b[0;34m:\u001b[0m\u001b[0;34m\u001b[0m\u001b[0;34m\u001b[0m\u001b[0m\n\u001b[1;32m    903\u001b[0m                 \u001b[0;31m# re-raise KeyboardInterrupt, to truncate traceback\u001b[0m\u001b[0;34m\u001b[0m\u001b[0;34m\u001b[0m\u001b[0m\n\u001b[0;32m--> 904\u001b[0;31m                 \u001b[0;32mraise\u001b[0m \u001b[0mKeyboardInterrupt\u001b[0m\u001b[0;34m(\u001b[0m\u001b[0;34m\"Interrupted by user\"\u001b[0m\u001b[0;34m)\u001b[0m \u001b[0;32mfrom\u001b[0m \u001b[0;32mNone\u001b[0m\u001b[0;34m\u001b[0m\u001b[0;34m\u001b[0m\u001b[0m\n\u001b[0m\u001b[1;32m    905\u001b[0m             \u001b[0;32mexcept\u001b[0m \u001b[0mException\u001b[0m \u001b[0;32mas\u001b[0m \u001b[0me\u001b[0m\u001b[0;34m:\u001b[0m\u001b[0;34m\u001b[0m\u001b[0;34m\u001b[0m\u001b[0m\n\u001b[1;32m    906\u001b[0m                 \u001b[0mself\u001b[0m\u001b[0;34m.\u001b[0m\u001b[0mlog\u001b[0m\u001b[0;34m.\u001b[0m\u001b[0mwarning\u001b[0m\u001b[0;34m(\u001b[0m\u001b[0;34m\"Invalid Message:\"\u001b[0m\u001b[0;34m,\u001b[0m \u001b[0mexc_info\u001b[0m\u001b[0;34m=\u001b[0m\u001b[0;32mTrue\u001b[0m\u001b[0;34m)\u001b[0m\u001b[0;34m\u001b[0m\u001b[0;34m\u001b[0m\u001b[0m\n",
            "\u001b[0;31mKeyboardInterrupt\u001b[0m: Interrupted by user"
          ]
        }
      ]
    }
  ]
}