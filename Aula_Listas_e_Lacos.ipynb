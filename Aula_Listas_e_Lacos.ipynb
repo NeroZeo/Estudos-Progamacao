{
  "nbformat": 4,
  "nbformat_minor": 0,
  "metadata": {
    "colab": {
      "provenance": [],
      "authorship_tag": "ABX9TyP+HOcfj1ob4cKwmqXX7iXg",
      "include_colab_link": true
    },
    "kernelspec": {
      "name": "python3",
      "display_name": "Python 3"
    },
    "language_info": {
      "name": "python"
    }
  },
  "cells": [
    {
      "cell_type": "markdown",
      "metadata": {
        "id": "view-in-github",
        "colab_type": "text"
      },
      "source": [
        "<a href=\"https://colab.research.google.com/github/NeroZeo/Estudos-Progamacao/blob/main/Aula_Listas_e_Lacos.ipynb\" target=\"_parent\"><img src=\"https://colab.research.google.com/assets/colab-badge.svg\" alt=\"Open In Colab\"/></a>"
      ]
    },
    {
      "cell_type": "code",
      "execution_count": 5,
      "metadata": {
        "colab": {
          "base_uri": "https://localhost:8080/"
        },
        "id": "2RBcXlqi7rC_",
        "outputId": "7946413b-a6e8-4359-a265-6abf85aebf0e"
      },
      "outputs": [
        {
          "output_type": "stream",
          "name": "stdout",
          "text": [
            "Informe a idade do atleta.\n",
            "5\n",
            "Infantil.\n"
          ]
        }
      ],
      "source": [
        "idade = int(input('Informe a idade do atleta.\\n'))\n",
        "if(idade < 14 ):\n",
        "  print('Infantil.')\n",
        "elif(idade < 18):\n",
        "   print('Juvenil.')\n",
        "else:\n",
        "  print('Sênior.')"
      ]
    },
    {
      "cell_type": "code",
      "source": [
        "#A minha lista de numeros...\n",
        "num = [1, 5, 2, 65, 9, 45, 75, 7, 6, 0, 6]"
      ],
      "metadata": {
        "id": "oreKQvwU_9K2"
      },
      "execution_count": 8,
      "outputs": []
    },
    {
      "cell_type": "code",
      "source": [
        "num"
      ],
      "metadata": {
        "colab": {
          "base_uri": "https://localhost:8080/"
        },
        "id": "W0AT2JZcFGvV",
        "outputId": "d43c7ff0-62bd-4cfb-cacd-516fff7eea2c"
      },
      "execution_count": 17,
      "outputs": [
        {
          "output_type": "execute_result",
          "data": {
            "text/plain": [
              "[1, 5, 2, 65, 9, 45, 75, 7, 6, 0, 6]"
            ]
          },
          "metadata": {},
          "execution_count": 17
        }
      ]
    },
    {
      "cell_type": "code",
      "source": [
        "len(num)"
      ],
      "metadata": {
        "colab": {
          "base_uri": "https://localhost:8080/"
        },
        "id": "ZOxCxxf6BdYR",
        "outputId": "b4adcfdb-964f-468b-8066-b1d16e1354a0"
      },
      "execution_count": 9,
      "outputs": [
        {
          "output_type": "execute_result",
          "data": {
            "text/plain": [
              "11"
            ]
          },
          "metadata": {},
          "execution_count": 9
        }
      ]
    },
    {
      "cell_type": "code",
      "source": [
        "print(num[10])"
      ],
      "metadata": {
        "colab": {
          "base_uri": "https://localhost:8080/"
        },
        "id": "WV-CoK_1B9JH",
        "outputId": "1c3a9029-ac2e-460e-a6b5-14bd734891fb"
      },
      "execution_count": 12,
      "outputs": [
        {
          "output_type": "stream",
          "name": "stdout",
          "text": [
            "6\n"
          ]
        }
      ]
    },
    {
      "cell_type": "code",
      "source": [
        "alunos = ['Lucas','Emanuel','Geraldo','Igor','José','Murilo','Judith','Mariana','Rubbens','Antônio','Balu','Thiago','Alex','Elizabeth','Carina','Carla','Cesar']\n",
        "len(alunos)"
      ],
      "metadata": {
        "colab": {
          "base_uri": "https://localhost:8080/"
        },
        "id": "4QPnFBChDNYa",
        "outputId": "8340e4c8-4d98-4c5e-a015-b97d9c6a51ec"
      },
      "execution_count": 15,
      "outputs": [
        {
          "output_type": "execute_result",
          "data": {
            "text/plain": [
              "17"
            ]
          },
          "metadata": {},
          "execution_count": 15
        }
      ]
    },
    {
      "cell_type": "code",
      "source": [
        "alunos[0] = 'Chris'\n",
        "alunos[1] = 'Arthur'\n",
        "alunos[5] = 'Joe'\n",
        "alunos.append('Maunuel')\n",
        "alunos.append(input('Digite o nome: '))"
      ],
      "metadata": {
        "colab": {
          "base_uri": "https://localhost:8080/"
        },
        "id": "lUvfgeA6EqOP",
        "outputId": "fdcf269b-bdac-4b2f-a530-cfc6063864c0"
      },
      "execution_count": 22,
      "outputs": [
        {
          "name": "stdout",
          "output_type": "stream",
          "text": [
            "Digite o nome: Cornovaldo\n"
          ]
        }
      ]
    },
    {
      "cell_type": "code",
      "source": [
        "alunos"
      ],
      "metadata": {
        "colab": {
          "base_uri": "https://localhost:8080/"
        },
        "id": "JeyPSIeFGiZw",
        "outputId": "08c684ae-a8bf-4fe4-b7fd-5c8a9aefb253"
      },
      "execution_count": 23,
      "outputs": [
        {
          "output_type": "execute_result",
          "data": {
            "text/plain": [
              "['Chris',\n",
              " 'Arthur',\n",
              " 'Geraldo',\n",
              " 'Igor',\n",
              " 'José',\n",
              " 'Joe',\n",
              " 'Judith',\n",
              " 'Mariana',\n",
              " 'Rubbens',\n",
              " 'Antônio',\n",
              " 'Balu',\n",
              " 'Thiago',\n",
              " 'Alex',\n",
              " 'Elizabeth',\n",
              " 'Carina',\n",
              " 'Carla',\n",
              " 'Cesar',\n",
              " 'Maunuel',\n",
              " 'Zacarias',\n",
              " 'Maunuel',\n",
              " 'Aleandro',\n",
              " 'Maunuel',\n",
              " 'Cornovaldo']"
            ]
          },
          "metadata": {},
          "execution_count": 23
        }
      ]
    },
    {
      "cell_type": "code",
      "source": [
        "nome = input('Qual o nome: ')\n",
        "if nome in alunos:\n",
        "  print('Tem sim', nome)\n",
        "else:\n",
        "  print('Tem não', nome)  "
      ],
      "metadata": {
        "colab": {
          "base_uri": "https://localhost:8080/"
        },
        "id": "HmPZu7n7MuQp",
        "outputId": "3d379389-cdd1-4d30-90c1-95658025426c"
      },
      "execution_count": 31,
      "outputs": [
        {
          "output_type": "stream",
          "name": "stdout",
          "text": [
            "Qual o nome: Cornovaldo\n",
            "Tem sim Cornovaldo\n"
          ]
        }
      ]
    },
    {
      "cell_type": "code",
      "source": [
        "del alunos[0]\n",
        "alunos"
      ],
      "metadata": {
        "colab": {
          "base_uri": "https://localhost:8080/"
        },
        "id": "SrF0mTEiQdrs",
        "outputId": "24bb9c6b-71a4-4194-dd85-49d8043abad7"
      },
      "execution_count": 32,
      "outputs": [
        {
          "output_type": "execute_result",
          "data": {
            "text/plain": [
              "['Arthur',\n",
              " 'Geraldo',\n",
              " 'Igor',\n",
              " 'José',\n",
              " 'Joe',\n",
              " 'Judith',\n",
              " 'Mariana',\n",
              " 'Rubbens',\n",
              " 'Antônio',\n",
              " 'Balu',\n",
              " 'Thiago',\n",
              " 'Alex',\n",
              " 'Elizabeth',\n",
              " 'Carina',\n",
              " 'Carla',\n",
              " 'Cesar',\n",
              " 'Maunuel',\n",
              " 'Zacarias',\n",
              " 'Maunuel',\n",
              " 'Aleandro',\n",
              " 'Maunuel',\n",
              " 'Cornovaldo']"
            ]
          },
          "metadata": {},
          "execution_count": 32
        }
      ]
    },
    {
      "cell_type": "code",
      "source": [
        "numeros = []\n",
        "for num in range(15):\n",
        "  numeros.append(num)\n",
        "numeros"
      ],
      "metadata": {
        "colab": {
          "base_uri": "https://localhost:8080/"
        },
        "id": "V_82UgfJTPtt",
        "outputId": "42aeeca0-09c0-4ca5-ab3c-f307bc435bdd"
      },
      "execution_count": 40,
      "outputs": [
        {
          "output_type": "execute_result",
          "data": {
            "text/plain": [
              "[0, 1, 2, 3, 4, 5, 6, 7, 8, 9, 10, 11, 12, 13, 14]"
            ]
          },
          "metadata": {},
          "execution_count": 40
        }
      ]
    },
    {
      "cell_type": "code",
      "source": [
        "dobro = []\n",
        "for num in numeros:\n",
        "  dobro.append(numeros[num]*2)\n",
        "dobro  "
      ],
      "metadata": {
        "colab": {
          "base_uri": "https://localhost:8080/"
        },
        "id": "33pC2rcqU8oj",
        "outputId": "5f8d7ca5-72a0-4a5a-d87a-8509f923b797"
      },
      "execution_count": 42,
      "outputs": [
        {
          "output_type": "execute_result",
          "data": {
            "text/plain": [
              "[0, 2, 4, 6, 8, 10, 12, 14, 16, 18, 20, 22, 24, 26, 28]"
            ]
          },
          "metadata": {},
          "execution_count": 42
        }
      ]
    },
    {
      "cell_type": "code",
      "source": [
        "for num in numeros:\n",
        "  if numeros[num]%2 == 1:\n",
        "    print(numeros[num])"
      ],
      "metadata": {
        "colab": {
          "base_uri": "https://localhost:8080/"
        },
        "id": "f6Lf9gulWtXp",
        "outputId": "163303bd-17e0-461b-be9c-76a654189e6c"
      },
      "execution_count": 56,
      "outputs": [
        {
          "output_type": "stream",
          "name": "stdout",
          "text": [
            "1\n",
            "3\n",
            "5\n",
            "7\n",
            "9\n",
            "11\n",
            "13\n"
          ]
        }
      ]
    }
  ]
}