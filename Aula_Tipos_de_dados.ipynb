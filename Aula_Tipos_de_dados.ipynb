{
  "nbformat": 4,
  "nbformat_minor": 0,
  "metadata": {
    "colab": {
      "provenance": [],
      "authorship_tag": "ABX9TyMmVPdUqhZ2wzqSOT3ZZ64M",
      "include_colab_link": true
    },
    "kernelspec": {
      "name": "python3",
      "display_name": "Python 3"
    },
    "language_info": {
      "name": "python"
    }
  },
  "cells": [
    {
      "cell_type": "markdown",
      "metadata": {
        "id": "view-in-github",
        "colab_type": "text"
      },
      "source": [
        "<a href=\"https://colab.research.google.com/github/NeroZeo/Estudos-Progamacao/blob/main/Aula_Tipos_de_dados.ipynb\" target=\"_parent\"><img src=\"https://colab.research.google.com/assets/colab-badge.svg\" alt=\"Open In Colab\"/></a>"
      ]
    },
    {
      "cell_type": "code",
      "execution_count": 1,
      "metadata": {
        "colab": {
          "base_uri": "https://localhost:8080/"
        },
        "id": "XqtXngieBrEy",
        "outputId": "430faa0b-7df9-4600-ecad-dd49890e5fc6"
      },
      "outputs": [
        {
          "output_type": "stream",
          "name": "stdout",
          "text": [
            "Meu primeiro notebook\n"
          ]
        }
      ],
      "source": [
        "print('Meu primeiro notebook')"
      ]
    },
    {
      "cell_type": "code",
      "source": [
        "nome = 'José Ailton'\n",
        "print(nome)"
      ],
      "metadata": {
        "colab": {
          "base_uri": "https://localhost:8080/"
        },
        "id": "O2xPcvQSCSwA",
        "outputId": "3b9abe49-f8b3-410e-fabd-97e0c4f51bad"
      },
      "execution_count": 2,
      "outputs": [
        {
          "output_type": "stream",
          "name": "stdout",
          "text": [
            "José Ailton\n"
          ]
        }
      ]
    },
    {
      "cell_type": "code",
      "source": [
        "#Descobrir Tipo de Variável\n",
        "type(nome)"
      ],
      "metadata": {
        "colab": {
          "base_uri": "https://localhost:8080/"
        },
        "id": "g2R4a15SDgDo",
        "outputId": "0f024a92-3f13-47bc-8712-480bc4a52bd8"
      },
      "execution_count": 4,
      "outputs": [
        {
          "output_type": "execute_result",
          "data": {
            "text/plain": [
              "str"
            ]
          },
          "metadata": {},
          "execution_count": 4
        }
      ]
    },
    {
      "cell_type": "code",
      "source": [
        "a = 100\n",
        "b = 25.6\n",
        "c = a > b\n",
        "d = 'Chimpaze'"
      ],
      "metadata": {
        "id": "heGfDL-SEC5n"
      },
      "execution_count": 6,
      "outputs": []
    },
    {
      "cell_type": "code",
      "source": [
        "type(a)"
      ],
      "metadata": {
        "colab": {
          "base_uri": "https://localhost:8080/"
        },
        "id": "NkQSZe73Edm_",
        "outputId": "60d4bcfe-5393-4a87-fb66-64919ae49bc0"
      },
      "execution_count": 12,
      "outputs": [
        {
          "output_type": "execute_result",
          "data": {
            "text/plain": [
              "int"
            ]
          },
          "metadata": {},
          "execution_count": 12
        }
      ]
    },
    {
      "cell_type": "code",
      "source": [
        "type(b)"
      ],
      "metadata": {
        "colab": {
          "base_uri": "https://localhost:8080/"
        },
        "id": "i0aREQZAEwao",
        "outputId": "ca4e85ab-5211-444e-f052-bcaa888a497c"
      },
      "execution_count": 13,
      "outputs": [
        {
          "output_type": "execute_result",
          "data": {
            "text/plain": [
              "float"
            ]
          },
          "metadata": {},
          "execution_count": 13
        }
      ]
    },
    {
      "cell_type": "code",
      "source": [
        "type(c)"
      ],
      "metadata": {
        "colab": {
          "base_uri": "https://localhost:8080/"
        },
        "id": "8O4Dg63nE0WP",
        "outputId": "740a2794-0b2a-45d2-d5e9-c03b057abc88"
      },
      "execution_count": 14,
      "outputs": [
        {
          "output_type": "execute_result",
          "data": {
            "text/plain": [
              "bool"
            ]
          },
          "metadata": {},
          "execution_count": 14
        }
      ]
    },
    {
      "cell_type": "code",
      "source": [
        "type(d)"
      ],
      "metadata": {
        "colab": {
          "base_uri": "https://localhost:8080/"
        },
        "id": "egpLXQDyE2-G",
        "outputId": "8923b0ce-bad4-4b08-8326-77dbe0b36635"
      },
      "execution_count": 15,
      "outputs": [
        {
          "output_type": "execute_result",
          "data": {
            "text/plain": [
              "str"
            ]
          },
          "metadata": {},
          "execution_count": 15
        }
      ]
    },
    {
      "cell_type": "code",
      "source": [
        "print(type(a))\n",
        "print(type(b))\n",
        "print(type(c))\n",
        "print(type(d))"
      ],
      "metadata": {
        "colab": {
          "base_uri": "https://localhost:8080/"
        },
        "id": "fDQjb5e4GLD5",
        "outputId": "4542c313-5828-4d3f-d19a-9e3ceca1d173"
      },
      "execution_count": 34,
      "outputs": [
        {
          "output_type": "stream",
          "name": "stdout",
          "text": [
            "<class 'int'>\n",
            "<class 'float'>\n",
            "<class 'bool'>\n",
            "<class 'str'>\n"
          ]
        }
      ]
    },
    {
      "cell_type": "code",
      "source": [
        "print(c)"
      ],
      "metadata": {
        "colab": {
          "base_uri": "https://localhost:8080/"
        },
        "id": "SferyuQeKZoh",
        "outputId": "18b19394-e7f5-4d1a-923c-b0be6c0378a9"
      },
      "execution_count": 35,
      "outputs": [
        {
          "output_type": "stream",
          "name": "stdout",
          "text": [
            "True\n"
          ]
        }
      ]
    },
    {
      "cell_type": "markdown",
      "source": [
        "Tipos de dados Booleanos"
      ],
      "metadata": {
        "id": "Xy34gPQ5KxH0"
      }
    },
    {
      "cell_type": "code",
      "source": [
        "a = 100 < 200\n",
        "b = 85 == 6\n",
        "c = 'José' == 'Ailton'\n",
        "d = 25 == '25'\n",
        "e = 30 == (6*5)\n",
        "f = 'Flamengo' != 'Vasco'"
      ],
      "metadata": {
        "id": "nwbO0hn4K7Zf"
      },
      "execution_count": 46,
      "outputs": []
    },
    {
      "cell_type": "code",
      "source": [
        "print(a)\n",
        "print(b)\n",
        "print(c)\n",
        "print(d)\n",
        "print(e)\n",
        "print(f)"
      ],
      "metadata": {
        "colab": {
          "base_uri": "https://localhost:8080/"
        },
        "id": "T5TjCnMBLQLz",
        "outputId": "ea560e14-7f36-4c61-fb8d-395239d8d1b5"
      },
      "execution_count": 47,
      "outputs": [
        {
          "output_type": "stream",
          "name": "stdout",
          "text": [
            "True\n",
            "False\n",
            "False\n",
            "False\n",
            "True\n",
            "True\n"
          ]
        }
      ]
    },
    {
      "cell_type": "code",
      "source": [
        "notaAprovacao = 7.0\n",
        "notaWalison = 2.0\n",
        "print(notaAprovacao < notaWalison)"
      ],
      "metadata": {
        "colab": {
          "base_uri": "https://localhost:8080/"
        },
        "id": "ZQDnqZAoMfjD",
        "outputId": "42c88694-7405-466c-fff4-3a68188c6e0a"
      },
      "execution_count": 69,
      "outputs": [
        {
          "output_type": "stream",
          "name": "stdout",
          "text": [
            "False\n"
          ]
        }
      ]
    },
    {
      "cell_type": "code",
      "source": [
        "if(notaWalison >= notaAprovacao):\n",
        "  print('Aprovado')"
      ],
      "metadata": {
        "id": "jDgKTI7iNyvx"
      },
      "execution_count": 58,
      "outputs": []
    },
    {
      "cell_type": "code",
      "source": [
        "if(notaWalison >= notaAprovacao):\n",
        "  print('Aprovado')\n",
        "else:\n",
        "  print('Reprovado')  "
      ],
      "metadata": {
        "colab": {
          "base_uri": "https://localhost:8080/"
        },
        "id": "VA0XDNpCOKrn",
        "outputId": "bf2091f7-d4e2-4b16-8bf4-7b328efb06f7"
      },
      "execution_count": 59,
      "outputs": [
        {
          "output_type": "stream",
          "name": "stdout",
          "text": [
            "Reprovado\n"
          ]
        }
      ]
    },
    {
      "cell_type": "code",
      "source": [
        "if(notaWalison >= notaAprovacao):\n",
        "  print('Aprovado')\n",
        "elif(7.0 > notaWalison >= 4.0):\n",
        "  print('Recuperação')\n",
        "else:\n",
        "  print('Reprovado')"
      ],
      "metadata": {
        "colab": {
          "base_uri": "https://localhost:8080/"
        },
        "id": "XtOMHjvsOvKn",
        "outputId": "0d5a8a92-c53c-433b-a1b9-7cef4d394624"
      },
      "execution_count": 71,
      "outputs": [
        {
          "output_type": "stream",
          "name": "stdout",
          "text": [
            "Reprovado\n"
          ]
        }
      ]
    },
    {
      "cell_type": "code",
      "source": [
        "if(notaWalison < 4):\n",
        "  print('Reprovado')\n",
        "elif(notaWalison < 7):\n",
        "  print('Recauperação')\n",
        "else:\n",
        "  print('Aprovado')"
      ],
      "metadata": {
        "colab": {
          "base_uri": "https://localhost:8080/"
        },
        "id": "AeN6g96CR0W4",
        "outputId": "c8f83b39-862b-4c50-deb8-a6ce05a815bd"
      },
      "execution_count": 72,
      "outputs": [
        {
          "output_type": "stream",
          "name": "stdout",
          "text": [
            "Reprovado\n"
          ]
        }
      ]
    },
    {
      "cell_type": "markdown",
      "source": [
        "Input de dados no Pyton"
      ],
      "metadata": {
        "id": "52CvTayFUVKJ"
      }
    },
    {
      "cell_type": "code",
      "source": [
        "nota1 = input('Digite a nota! ')\n",
        "nota2 = input('Digite a segunda nota! ')\n",
        "print(nota1+nota2)"
      ],
      "metadata": {
        "colab": {
          "base_uri": "https://localhost:8080/"
        },
        "id": "u4G-UcDaUae_",
        "outputId": "f2370025-5ee3-4afe-c7a8-30cfed8f5476"
      },
      "execution_count": 74,
      "outputs": [
        {
          "output_type": "stream",
          "name": "stdout",
          "text": [
            "Digite a nota! 7\n",
            "Digite a segunda nota! 8\n",
            "78\n"
          ]
        }
      ]
    },
    {
      "cell_type": "code",
      "source": [
        "nota1 = float(input('Digite a nota! '))\n",
        "nota2 = float(input('Digite a segunda nota! '))\n",
        "print(nota1+nota2)"
      ],
      "metadata": {
        "colab": {
          "base_uri": "https://localhost:8080/"
        },
        "id": "-SGG7el5V4QE",
        "outputId": "ae0adf8e-49af-4ea4-f47a-72264fcac82e"
      },
      "execution_count": 75,
      "outputs": [
        {
          "output_type": "stream",
          "name": "stdout",
          "text": [
            "Digite a nota! 8\n",
            "Digite a segunda nota! 5\n",
            "13.0\n"
          ]
        }
      ]
    },
    {
      "cell_type": "code",
      "source": [
        "nota1 = float(input('Digite a primeira nota! '))\n",
        "nota2 = float(input('Digite a segunda nota! '))\n",
        "nota3 = float(input('Digite a terceira nota! '))\n",
        "media = (nota1+nota2+nota3)/3\n",
        "print(media)\n",
        "if(media < 4):\n",
        "  print('Reprovado!')\n",
        "elif(media < 7):\n",
        "  print('Recauperação!')\n",
        "else:\n",
        "  print('Aprovado!')"
      ],
      "metadata": {
        "colab": {
          "base_uri": "https://localhost:8080/"
        },
        "id": "v9e8_TeTWDYE",
        "outputId": "4982dc5c-34c9-43ba-d6d8-d90821c5e273"
      },
      "execution_count": 83,
      "outputs": [
        {
          "output_type": "stream",
          "name": "stdout",
          "text": [
            "Digite a primeira nota! 7\n",
            "Digite a segunda nota! 9\n",
            "Digite a terceira nota! 8\n",
            "8.0\n",
            "Aprovado!\n"
          ]
        }
      ]
    }
  ]
}